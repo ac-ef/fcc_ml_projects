{
  "cells": [
    {
      "cell_type": "markdown",
      "metadata": {
        "name":"python3",
        "id": "Eg62Pmz3o83v"
      },
      "source": [
        "*Note: You are currently reading this using Google Colaboratory which is a cloud-hosted version of Jupyter Notebook. This is a document containing both text cells for documentation and runnable code cells. If you are unfamiliar with Jupyter Notebook, watch this 3-minute introduction before starting this challenge: https://www.youtube.com/watch?v=inN8seMm7UI*\n",
        "\n",
        "---\n",
        "\n",
        "In this challenge, you need to create a machine learning model that will classify SMS messages as either \"ham\" or \"spam\". A \"ham\" message is a normal message sent by a friend. A \"spam\" message is an advertisement or a message sent by a company.\n",
        "\n",
        "You should create a function called `predict_message` that takes a message string as an argument and returns a list. The first element in the list should be a number between zero and one that indicates the likeliness of \"ham\" (0) or \"spam\" (1). The second element in the list should be the word \"ham\" or \"spam\", depending on which is most likely.\n",
        "\n",
        "For this challenge, you will use the [SMS Spam Collection dataset](http://www.dt.fee.unicamp.br/~tiago/smsspamcollection/). The dataset has already been grouped into train data and test data.\n",
        "\n",
        "The first two cells import the libraries and data. The final cell tests your model and function. Add your code in between these cells.\n"
      ]
    },
    {
      "cell_type": "code",
      "execution_count": 36,
      "metadata": {
        "id": "8RZOuS9LWQvv",
        "colab": {
          "base_uri": "https://localhost:8080/"
        },
        "outputId": "e71d7be4-155e-40a3-fd50-119cff3fcd12"
      },
      "outputs": [
        {
          "output_type": "stream",
          "name": "stdout",
          "text": [
            "2.8.0\n"
          ]
        }
      ],
      "source": [
        "# import libraries\n",
        "#try:\n",
        "#  # %tensorflow_version only exists in Colab.\n",
        "#  !pip install tf-nightly\n",
        "#except Exception:\n",
        "#  pass\n",
        "import tensorflow as tf\n",
        "import pandas as pd\n",
        "from tensorflow import keras\n",
        "#!pip install tensorflow-datasets\n",
        "#import tensorflow_datasets as tfds\n",
        "import numpy as np\n",
        "import matplotlib.pyplot as plt\n",
        "\n",
        "print(tf.__version__)"
      ]
    },
    {
      "cell_type": "code",
      "execution_count": 37,
      "metadata": {
        "id": "lMHwYXHXCar3",
        "colab": {
          "base_uri": "https://localhost:8080/"
        },
        "outputId": "fccbd778-9309-47e9-831d-40ad409a3ce8"
      },
      "outputs": [
        {
          "output_type": "stream",
          "name": "stdout",
          "text": [
            "--2022-03-11 21:01:03--  https://cdn.freecodecamp.org/project-data/sms/train-data.tsv\n",
            "Resolving cdn.freecodecamp.org (cdn.freecodecamp.org)... 104.26.2.33, 104.26.3.33, 172.67.70.149, ...\n",
            "Connecting to cdn.freecodecamp.org (cdn.freecodecamp.org)|104.26.2.33|:443... connected.\n",
            "HTTP request sent, awaiting response... 200 OK\n",
            "Length: 358233 (350K) [text/tab-separated-values]\n",
            "Saving to: ‘train-data.tsv.2’\n",
            "\n",
            "train-data.tsv.2    100%[===================>] 349.84K  --.-KB/s    in 0.07s   \n",
            "\n",
            "2022-03-11 21:01:03 (5.21 MB/s) - ‘train-data.tsv.2’ saved [358233/358233]\n",
            "\n",
            "--2022-03-11 21:01:03--  https://cdn.freecodecamp.org/project-data/sms/valid-data.tsv\n",
            "Resolving cdn.freecodecamp.org (cdn.freecodecamp.org)... 104.26.2.33, 104.26.3.33, 172.67.70.149, ...\n",
            "Connecting to cdn.freecodecamp.org (cdn.freecodecamp.org)|104.26.2.33|:443... connected.\n",
            "HTTP request sent, awaiting response... 200 OK\n",
            "Length: 118774 (116K) [text/tab-separated-values]\n",
            "Saving to: ‘valid-data.tsv.2’\n",
            "\n",
            "valid-data.tsv.2    100%[===================>] 115.99K  --.-KB/s    in 0.01s   \n",
            "\n",
            "2022-03-11 21:01:03 (10.3 MB/s) - ‘valid-data.tsv.2’ saved [118774/118774]\n",
            "\n"
          ]
        }
      ],
      "source": [
        "# get data files\n",
        "!wget https://cdn.freecodecamp.org/project-data/sms/train-data.tsv\n",
        "!wget https://cdn.freecodecamp.org/project-data/sms/valid-data.tsv\n",
        "\n",
        "train_file_path = \"train-data.tsv\"\n",
        "test_file_path = \"valid-data.tsv\""
      ]
    },
    {
      "cell_type": "code",
      "source": [
        "layers = keras.layers"
      ],
      "metadata": {
        "id": "WT7b_0cDv48J"
      },
      "execution_count": 38,
      "outputs": []
    },
    {
      "cell_type": "markdown",
      "source": [
        "# Data: loading and preprocessing"
      ],
      "metadata": {
        "id": "Wqjq9vs_vhwJ"
      }
    },
    {
      "cell_type": "code",
      "execution_count": 39,
      "metadata": {
        "id": "g_h508FEClxO",
        "colab": {
          "base_uri": "https://localhost:8080/"
        },
        "outputId": "c693e08e-1492-4765-fb77-5d7b9df62dff"
      },
      "outputs": [
        {
          "output_type": "stream",
          "name": "stdout",
          "text": [
            "Train dataset length:\t4179\n",
            "Test dataset length:\t1392\n"
          ]
        }
      ],
      "source": [
        "BUFFER_SIZE = 1000\n",
        "BATCH_SIZE = 64\n",
        "VOCAB_SIZE = 8000\n",
        "EMBEDDING_DIM = 8\n",
        "RNN_UNITS = 8\n",
        "N_EPOCHS = 5\n",
        "\n",
        "labels = {'ham':0, 'spam':1}\n",
        "\n",
        "df_train = pd.read_csv(train_file_path, sep='\\t', names=['label','message'])\n",
        "df_test = pd.read_csv(test_file_path, sep='\\t', names=['label','message'])\n",
        "\n",
        "print(f'Train dataset length:\\t{len(df_train)}',\n",
        "      f'Test dataset length:\\t{len(df_test)}',\n",
        "      sep='\\n')"
      ]
    },
    {
      "cell_type": "code",
      "source": [
        "training_data = df_train.replace(labels)\n",
        "test_data = df_test.replace(labels)"
      ],
      "metadata": {
        "id": "bydr8eubWqCW"
      },
      "execution_count": 40,
      "outputs": []
    },
    {
      "cell_type": "code",
      "source": [
        "training_data = tf.data.Dataset.from_tensor_slices((training_data.message, training_data.label))\n",
        "test_data = tf.data.Dataset.from_tensor_slices((test_data.message, test_data.label))"
      ],
      "metadata": {
        "id": "D7bCGLNEdpi7"
      },
      "execution_count": 41,
      "outputs": []
    },
    {
      "cell_type": "code",
      "source": [
        "training_data = training_data.shuffle(BUFFER_SIZE).batch(BATCH_SIZE).prefetch(tf.data.AUTOTUNE)\n",
        "test_data = test_data.batch(BATCH_SIZE).prefetch(tf.data.AUTOTUNE)"
      ],
      "metadata": {
        "id": "d2M01iLxeUGR"
      },
      "execution_count": 42,
      "outputs": []
    },
    {
      "cell_type": "markdown",
      "source": [
        "# Model"
      ],
      "metadata": {
        "id": "5bBmDcKavlEy"
      }
    },
    {
      "cell_type": "code",
      "source": [
        "encoder = layers.TextVectorization(max_tokens=VOCAB_SIZE)\n",
        "encoder.adapt(training_data.map(lambda m,l: m))"
      ],
      "metadata": {
        "id": "WAztmeiMdpV5"
      },
      "execution_count": 43,
      "outputs": []
    },
    {
      "cell_type": "code",
      "source": [
        "model = keras.Sequential([\n",
        "                          encoder,\n",
        "                          layers.Embedding(input_dim = VOCAB_SIZE,\n",
        "                                           output_dim = EMBEDDING_DIM,\n",
        "                                           mask_zero = True),\n",
        "                          layers.Bidirectional(keras.layers.LSTM(RNN_UNITS,\n",
        "                                                                 dropout=0.5)),\n",
        "                          layers.Dense(64, activation='relu'),\n",
        "                          layers.Dense(1, activation='sigmoid')\n",
        "])"
      ],
      "metadata": {
        "id": "tE6AKjK7dpSX"
      },
      "execution_count": 44,
      "outputs": []
    },
    {
      "cell_type": "code",
      "source": [
        "model.compile(optimizer='rmsprop',\n",
        "              loss='binary_crossentropy',\n",
        "              metrics=['accuracy'])"
      ],
      "metadata": {
        "id": "btlthetudpPI"
      },
      "execution_count": 45,
      "outputs": []
    },
    {
      "cell_type": "code",
      "source": [
        "model.fit(training_data, epochs=N_EPOCHS)"
      ],
      "metadata": {
        "colab": {
          "base_uri": "https://localhost:8080/"
        },
        "id": "rcHPleWGe4SK",
        "outputId": "e8dbbd20-1555-4315-d4ea-cb1c6caa03ba"
      },
      "execution_count": 46,
      "outputs": [
        {
          "output_type": "stream",
          "name": "stdout",
          "text": [
            "Epoch 1/5\n",
            "66/66 [==============================] - 13s 57ms/step - loss: 0.4852 - accuracy: 0.8615\n",
            "Epoch 2/5\n",
            "66/66 [==============================] - 3s 46ms/step - loss: 0.2229 - accuracy: 0.9069\n",
            "Epoch 3/5\n",
            "66/66 [==============================] - 4s 56ms/step - loss: 0.0910 - accuracy: 0.9816\n",
            "Epoch 4/5\n",
            "66/66 [==============================] - 4s 66ms/step - loss: 0.0477 - accuracy: 0.9871\n",
            "Epoch 5/5\n",
            "66/66 [==============================] - 3s 51ms/step - loss: 0.0353 - accuracy: 0.9907\n"
          ]
        },
        {
          "output_type": "execute_result",
          "data": {
            "text/plain": [
              "<keras.callbacks.History at 0x7f521ee85190>"
            ]
          },
          "metadata": {},
          "execution_count": 46
        }
      ]
    },
    {
      "cell_type": "code",
      "source": [
        "model.evaluate(test_data)"
      ],
      "metadata": {
        "colab": {
          "base_uri": "https://localhost:8080/"
        },
        "id": "3k3-AwIte4OV",
        "outputId": "fae263a3-b96f-4716-f66c-a9acb14362ce"
      },
      "execution_count": 47,
      "outputs": [
        {
          "output_type": "stream",
          "name": "stdout",
          "text": [
            "22/22 [==============================] - 3s 16ms/step - loss: 0.2384 - accuracy: 0.9188\n"
          ]
        },
        {
          "output_type": "execute_result",
          "data": {
            "text/plain": [
              "[0.23840972781181335, 0.9188218116760254]"
            ]
          },
          "metadata": {},
          "execution_count": 47
        }
      ]
    },
    {
      "cell_type": "markdown",
      "source": [
        "# Final tests"
      ],
      "metadata": {
        "id": "_CHX-r-gvo5Y"
      }
    },
    {
      "cell_type": "code",
      "source": [
        "# function to predict messages based on model\n",
        "# (should return list containing prediction and label, ex. [0.008318834938108921, 'ham'])\n",
        "def predict_message(pred_text):\n",
        "    result = model.predict([pred_text]).item(0)\n",
        "    label = 'ham' if result<0.5 else 'spam'\n",
        "    return [result, label]\n",
        "\n",
        "pred_text = \"how are you doing today?\"\n",
        "\n",
        "prediction = predict_message(pred_text)\n",
        "print(prediction)"
      ],
      "metadata": {
        "colab": {
          "base_uri": "https://localhost:8080/"
        },
        "id": "f_0ZO1Dihb6f",
        "outputId": "cc7915aa-bd32-45c5-c036-301a46f9093c"
      },
      "execution_count": 48,
      "outputs": [
        {
          "output_type": "stream",
          "name": "stdout",
          "text": [
            "[0.0006901894812472165, 'ham']\n"
          ]
        }
      ]
    },
    {
      "cell_type": "code",
      "source": [
        "# Run this cell to test your function and model. Do not modify contents.\n",
        "def test_predictions():\n",
        "  test_messages = [\"how are you doing today\",\n",
        "                   \"sale today! to stop texts call 98912460324\",\n",
        "                   \"i dont want to go. can we try it a different day? available sat\",\n",
        "                   \"our new mobile video service is live. just install on your phone to start watching.\",\n",
        "                   \"you have won £1000 cash! call to claim your prize.\",\n",
        "                   \"i'll bring it tomorrow. don't forget the milk.\",\n",
        "                   \"wow, is your arm alright. that happened to me one time too\"\n",
        "                  ]\n",
        "\n",
        "  test_answers = [\"ham\", \"spam\", \"ham\", \"spam\", \"spam\", \"ham\", \"ham\"]\n",
        "  passed = True\n",
        "\n",
        "  for msg, ans in zip(test_messages, test_answers):\n",
        "    prediction = predict_message(msg)\n",
        "    if prediction[1] != ans:\n",
        "      passed = False\n",
        "\n",
        "  if passed:\n",
        "    print(\"You passed the challenge. Great job!\")\n",
        "  else:\n",
        "    print(\"You haven't passed yet. Keep trying.\")\n",
        "\n",
        "test_predictions()"
      ],
      "metadata": {
        "colab": {
          "base_uri": "https://localhost:8080/"
        },
        "id": "5_0IFz4shbxO",
        "outputId": "703b4e06-ea5c-4629-deac-1829e111bf28"
      },
      "execution_count": 49,
      "outputs": [
        {
          "output_type": "stream",
          "name": "stdout",
          "text": [
            "You passed the challenge. Great job!\n"
          ]
        }
      ]
    }
  ],
  "metadata": {
    "colab": {
      "collapsed_sections": [],
      "name": "definitivo-fcc_sms_text_classification.ipynb",
      "provenance": []
    },
    "kernelspec": {
      "display_name": "Python 3",
      "name": "python3"
    },
    "language_info": {},
    "accelerator": "GPU"
  },
  "nbformat": 4,
  "nbformat_minor": 0
}
